{
 "cells": [
  {
   "cell_type": "markdown",
   "metadata": {},
   "source": [
    "# Mordred processing example for Negishi dataset"
   ]
  },
  {
   "cell_type": "markdown",
   "metadata": {},
   "source": [
    "### Import libraries"
   ]
  },
  {
   "cell_type": "code",
   "execution_count": 2,
   "metadata": {},
   "outputs": [],
   "source": [
    "%matplotlib inline \n",
    "import pandas as pd\n",
    "import numpy as np\n",
    "import matplotlib.pyplot as plt\n",
    "from rdkit import Chem\n",
    "from mordred import Calculator, descriptors\n",
    "\n",
    "paths = [\n",
    "    '/home/ubuntu/reaction-gcnn/data/'\n",
    "]"
   ]
  },
  {
   "cell_type": "markdown",
   "metadata": {},
   "source": [
    "### Load dataset"
   ]
  },
  {
   "cell_type": "code",
   "execution_count": 3,
   "metadata": {},
   "outputs": [
    {
     "name": "stdout",
     "output_type": "stream",
     "text": [
      "Reading sheet binned_final\n"
     ]
    }
   ],
   "source": [
    "df = None\n",
    "my_path = None\n",
    "for path in paths:\n",
    "    try:\n",
    "        df = pd.read_excel(path+'Negishi_binned_final.xlsx', \n",
    "                     sheet_name = 'binned_final', usecols = tuple([3,4,5,6]),\n",
    "                     nrows = 6392, verbose = True)\n",
    "        my_path = path\n",
    "        break\n",
    "    except FileNotFoundError:\n",
    "        pass\n",
    "\n",
    "if df is None:\n",
    "    raise FileNotFoundError(\"None of the paths are valid\")\n",
    "\n",
    "df.columns = ['reactant_1', 'reactant_2', 'product', 'yield']"
   ]
  },
  {
   "cell_type": "code",
   "execution_count": 4,
   "metadata": {},
   "outputs": [],
   "source": [
    "# Remove null entries\n",
    "df = df.dropna()\n",
    "\n",
    "# Remove entries with failed RDKit parsing\n",
    "df = df[df['reactant_1'].apply(Chem.MolFromSmiles).notna()]\n",
    "df = df[df['reactant_2'].apply(Chem.MolFromSmiles).notna()]\n",
    "df = df[df['product'].apply(Chem.MolFromSmiles).notna()]"
   ]
  },
  {
   "cell_type": "code",
   "execution_count": 5,
   "metadata": {},
   "outputs": [
    {
     "data": {
      "image/png": "[encoded data removed]",
      "text/plain": [
       "<Figure size 1080x360 with 2 Axes>"
      ]
     },
     "metadata": {},
     "output_type": "display_data"
    }
   ],
   "source": [
    "# Plot dataset yield distribution\n",
    "y = df['yield']/100\n",
    "y = (y * (len(y) - 1) + 0.5)/len(y)\n",
    "\n",
    "fig, axes = plt.subplots(1, 2, figsize = (15,5))\n",
    "axes[0].hist(y, 50);\n",
    "axes[0].set_title('Histogram of yield');\n",
    "axes[1].hist(np.log(y/(1-y)), bins = 50);\n",
    "axes[1].set_title('Histogram of log-odds yield');"
   ]
  },
  {
   "cell_type": "markdown",
   "metadata": {},
   "source": [
    "### Calculate Mordred vectors"
   ]
  },
  {
   "cell_type": "code",
   "execution_count": 6,
   "metadata": {},
   "outputs": [],
   "source": [
    "# Initialize Mordred calculator\n",
    "calc = Calculator(descriptors, ignore_3D=False)"
   ]
  },
  {
   "cell_type": "code",
   "execution_count": 7,
   "metadata": {},
   "outputs": [],
   "source": [
    "# Make lists of all molecules in dataset by reaction component\n",
    "reactants_1 = [Chem.MolFromSmiles(smile) for smile in df['reactant_1']]\n",
    "reactants_2 = [Chem.MolFromSmiles(smile) for smile in df['reactant_2']]\n",
    "products = [Chem.MolFromSmiles(smile) for smile in df['product']]"
   ]
  },
  {
   "cell_type": "code",
   "execution_count": 9,
   "metadata": {
    "scrolled": true
   },
   "outputs": [
    {
     "name": "stderr",
     "output_type": "stream",
     "text": [
      " 32%|███▏      | 1985/6242 [06:39<44:33,  1.59it/s]"
     ]
    },
    {
     "name": "stdout",
     "output_type": "stream",
     "text": [
      "/home/ubuntu/anaconda3/envs/tensorflow_p36/lib/python3.6/site-packages/numpy/core/fromnumeric.py:90: RuntimeWarning: overflow encountered in reduce\n",
      "  return ufunc.reduce(obj, axis, dtype, out, **passkwargs)\n"
     ]
    },
    {
     "name": "stderr",
     "output_type": "stream",
     "text": [
      "100%|██████████| 6242/6242 [19:06<00:00, 10.05it/s]\n"
     ]
    }
   ],
   "source": [
    "# Run Mordred calculator and create raw dataframes with the descriptor vectors\n",
    "rdf_1 = calc.pandas(reactants_1)"
   ]
  },
  {
   "cell_type": "code",
   "execution_count": 10,
   "metadata": {},
   "outputs": [
    {
     "name": "stderr",
     "output_type": "stream",
     "text": [
      " 65%|██████▍   | 4047/6242 [07:31<16:06,  2.27it/s]"
     ]
    },
    {
     "name": "stdout",
     "output_type": "stream",
     "text": [
      "/home/ubuntu/anaconda3/envs/tensorflow_p36/lib/python3.6/site-packages/numpy/core/fromnumeric.py:90: RuntimeWarning: overflow encountered in reduce\n",
      "  return ufunc.reduce(obj, axis, dtype, out, **passkwargs)\n"
     ]
    },
    {
     "name": "stderr",
     "output_type": "stream",
     "text": [
      "100%|██████████| 6242/6242 [11:44<00:00,  8.86it/s]\n"
     ]
    }
   ],
   "source": [
    "rdf_2 = calc.pandas(reactants_2)"
   ]
  },
  {
   "cell_type": "code",
   "execution_count": 11,
   "metadata": {
    "scrolled": true
   },
   "outputs": [
    {
     "name": "stderr",
     "output_type": "stream",
     "text": [
      " 32%|███▏      | 1984/6242 [07:17<46:38,  1.52it/s]"
     ]
    },
    {
     "name": "stdout",
     "output_type": "stream",
     "text": [
      "/home/ubuntu/anaconda3/envs/tensorflow_p36/lib/python3.6/site-packages/numpy/core/fromnumeric.py:90: RuntimeWarning: overflow encountered in reduce\n",
      "  return ufunc.reduce(obj, axis, dtype, out, **passkwargs)\n"
     ]
    },
    {
     "name": "stderr",
     "output_type": "stream",
     "text": [
      " 65%|██████▍   | 4056/6242 [13:57<23:02,  1.58it/s]"
     ]
    },
    {
     "name": "stdout",
     "output_type": "stream",
     "text": [
      "/home/ubuntu/anaconda3/envs/tensorflow_p36/lib/python3.6/site-packages/numpy/core/fromnumeric.py:90: RuntimeWarning: overflow encountered in reduce\n",
      "  return ufunc.reduce(obj, axis, dtype, out, **passkwargs)\n"
     ]
    },
    {
     "name": "stderr",
     "output_type": "stream",
     "text": [
      " 70%|██████▉   | 4357/6242 [14:59<14:36,  2.15it/s]"
     ]
    },
    {
     "name": "stdout",
     "output_type": "stream",
     "text": [
      "/home/ubuntu/anaconda3/envs/tensorflow_p36/lib/python3.6/site-packages/numpy/core/fromnumeric.py:90: RuntimeWarning: overflow encountered in reduce\n",
      "  return ufunc.reduce(obj, axis, dtype, out, **passkwargs)\n"
     ]
    },
    {
     "name": "stderr",
     "output_type": "stream",
     "text": [
      "100%|██████████| 6242/6242 [21:04<00:00,  3.56it/s]\n"
     ]
    }
   ],
   "source": [
    "pdf = calc.pandas(products)"
   ]
  },
  {
   "cell_type": "code",
   "execution_count": 12,
   "metadata": {},
   "outputs": [
    {
     "name": "stdout",
     "output_type": "stream",
     "text": [
      "1105\n"
     ]
    }
   ],
   "source": [
    "# There are some columns that give nonsensical values: see SpAbs_A\n",
    "# This set will vary by dataset. In practice, these were first calculated\n",
    "# with the Suzuki dataset and transferred to the remaining \n",
    "# datasets for consistency.\n",
    "prodcols = set(pdf.describe().columns)\n",
    "reactcols_1 = set(rdf_1.describe().columns)\n",
    "reactcols_2 = set(rdf_2.describe().columns)\n",
    "cols = (prodcols.intersection(reactcols_1).intersection(reactcols_2))\n",
    "print(len(cols))"
   ]
  },
  {
   "cell_type": "code",
   "execution_count": null,
   "metadata": {},
   "outputs": [],
   "source": [
    "# Filter out columns that are 0-valued throughout\n",
    "pdfred = pdf[pdf[cols].columns[np.array(pdf[cols].describe())[2, :] != 0.0]]\n",
    "rdfred_1 = rdf_1[rdf_1[cols].columns[np.array(rdf_1[cols].describe())[2, :] != 0.0]]\n",
    "rdfred_2 = rdf_2[rdf_2[cols].columns[np.array(rdf_2[cols].describe())[2, :] != 0.0]]"
   ]
  },
  {
   "cell_type": "code",
   "execution_count": 14,
   "metadata": {},
   "outputs": [
    {
     "name": "stdout",
     "output_type": "stream",
     "text": [
      "668 668\n"
     ]
    }
   ],
   "source": [
    "# Only keep columns that were calculated for all reaction components\n",
    "colsred = (set(pdfred.columns).intersection(set(rdfred_2.columns)).intersection(set(rdfred_1.columns)))\n",
    "new_cols = (set(cols).intersection(set(colsred)))\n",
    "print(len(colsred), len(new_cols))"
   ]
  },
  {
   "cell_type": "code",
   "execution_count": 13,
   "metadata": {},
   "outputs": [
    {
     "name": "stdout",
     "output_type": "stream",
     "text": [
      "668\n"
     ]
    }
   ],
   "source": [
    "# Create new dataframes with reduced column set\n",
    "pdfred = pdf[new_cols]\n",
    "rdfred_1 = rdf_1[new_cols]\n",
    "rdfred_2 = rdf_2[new_cols]"
   ]
  },
  {
   "cell_type": "markdown",
   "metadata": {},
   "source": [
    "### Save datasets to be loaded with full column parsing"
   ]
  },
  {
   "cell_type": "code",
   "execution_count": 15,
   "metadata": {},
   "outputs": [],
   "source": [
    "# Save the dataframes to csv to be loaded with full input parsing\n",
    "# Will be used to create hybrid inputs by concatenating with tokenized SMILES\n",
    "pdfred.to_csv(my_path+'negishi_products_mordred.csv', index = True)\n",
    "rdfred_1.to_csv(my_path+'negishi_reactants_1_mordred.csv', index = True)\n",
    "rdfred_2.to_csv(my_path+'negishi_reactants_2_mordred.csv', index = True)"
   ]
  }
 ],
 "metadata": {
  "kernelspec": {
   "display_name": "Python 3",
   "language": "python",
   "name": "python3"
  },
  "language_info": {
   "codemirror_mode": {
    "name": "ipython",
    "version": 3
   },
   "file_extension": ".py",
   "mimetype": "text/x-python",
   "name": "python",
   "nbconvert_exporter": "python",
   "pygments_lexer": "ipython3",
   "version": "3.7.6"
  }
 },
 "nbformat": 4,
 "nbformat_minor": 4
}
